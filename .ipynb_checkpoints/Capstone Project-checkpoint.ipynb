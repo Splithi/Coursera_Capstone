{
 "cells": [
  {
   "cell_type": "markdown",
   "metadata": {},
   "source": [
    "This Notebook is for the Capstone Project of the Coursera Course IBM Data Science by Christian Splith\n",
    "\n",
    "# A Comparision of the Neighborhoods of Berlin and Leipzig"
   ]
  },
  {
   "cell_type": "markdown",
   "metadata": {},
   "source": [
    "## Introduction\n",
    "Leipzig is often revered to as the \"small Berlin\". Lets find out what is to this. Imagine you are Living in Berlin and want to move to Leipzig or the other way around. From which Neighborhood to which would you move?\n",
    "\n",
    "Therefore it is necessary to explore all the venues of each neihborhood. Also Population density should be taken in account."
   ]
  },
  {
   "cell_type": "markdown",
   "metadata": {},
   "source": [
    "## The Data\n",
    "\n",
    "Neighborhood specific Data is obtained from Wikipedia for Berlin and Leipzig.\n",
    "\n",
    "https://de.wikipedia.org/wiki/Liste_der_Stadtbezirke_und_Ortsteile_Leipzigs\n",
    "\n",
    "\n",
    "\n",
    "https://www.govdata.de/daten/-/details/geodaten-der-leipziger-ortsteile-und-stadtbezirke"
   ]
  },
  {
   "cell_type": "code",
   "execution_count": null,
   "metadata": {},
   "outputs": [],
   "source": []
  }
 ],
 "metadata": {
  "kernelspec": {
   "display_name": "Python 3",
   "language": "python",
   "name": "python3"
  },
  "language_info": {
   "codemirror_mode": {
    "name": "ipython",
    "version": 3
   },
   "file_extension": ".py",
   "mimetype": "text/x-python",
   "name": "python",
   "nbconvert_exporter": "python",
   "pygments_lexer": "ipython3",
   "version": "3.8.5"
  }
 },
 "nbformat": 4,
 "nbformat_minor": 2
}
