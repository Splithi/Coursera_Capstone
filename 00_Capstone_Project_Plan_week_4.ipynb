{
 "cells": [
  {
   "cell_type": "markdown",
   "metadata": {},
   "source": [
    "This Notebook is for the Capstone Project of the Coursera Course IBM Data Science by Christian Splith\n",
    "\n",
    "# A Comparision of the Neighborhoods of Berlin and Leipzig"
   ]
  },
  {
   "cell_type": "markdown",
   "metadata": {},
   "source": [
    "## 1. Introduction\n",
    "Leipzig is sometimes called \"little Berlin\". Lets find out how comparable both cities are. Is this statement/comparision accurate and relateable? \n",
    "\n",
    "Imagine you are living in Berlin and want to move to Leipzig or the other way around. From which Neighborhood to which would you move?\n",
    "\n",
    "Therefore each neighborhood will be explored via Foursquare API. Based on the Venue data, a comparison of both Cities should be possible. But other data like population density should be taken into account too.\n",
    "\n",
    "\n",
    "In general this can be expaned in the future to compare cities all over the world to find out which Cities a person would like to live in. And to which Neighborhood the person should move."
   ]
  },
  {
   "cell_type": "markdown",
   "metadata": {},
   "source": [
    "## 2. The Data\n",
    "\n",
    "Neighborhood specific data is obtained from Wikipedia for Berlin and Leipzig.\n",
    "\n",
    "Leipzig:\n",
    "https://de.wikipedia.org/wiki/Liste_der_Stadtbezirke_und_Ortsteile_Leipzigs\n",
    "\n",
    "Berlin:\n",
    "https://de.wikipedia.org/wiki/Verwaltungsgliederung_Berlins\n",
    "\n",
    "The wikitable will be scrape via beautiful soup. \n",
    "\n",
    "### Leipzig City Data\n",
    "The Leipzig table contains of: \n",
    "- a small map, - a key,\n",
    "- the Borough,\n",
    "- the Neighborhood,\n",
    "- the Residents,\n",
    "- the Area and\n",
    "- the Population Denisty. \n",
    "\n",
    "### Berlin City Data\n",
    "The Berlin table contains of:\n",
    "- a key,\n",
    "- the Neighborhood, \n",
    "- the Borough, \n",
    "- the Area, \n",
    "- the Residents and \n",
    "- the Population Density. \n",
    "\n",
    "The data will be cleaned. unnecessary data like the key will be droped.\n",
    "\n",
    "### Leipzig Geo Data\n",
    "The geodata for Leipzig will be taken from the following link:\n",
    "https://www.govdata.de/daten/-/details/geodaten-der-leipziger-ortsteile-und-stadtbezirke\n",
    "\n",
    "The geodata is in form of a shape-file. The coordinates are in format UTM and need to be transfered to lat-long. From the shape coordinates the centroids of each Neighborhood will be calculated. \n",
    "\n",
    "### Berlin Geo Data\n",
    "For the Geodata of Berlin the shape is stored in a geojson data: \n",
    "https://daten.odis-berlin.de/de/dataset/lor_bezirksregionen/\n",
    "\n",
    "It will be transfered into a dataframe. \n",
    "\n",
    "The Centroids and the Shapes of each City will be plotted to a map with Folium. \n",
    "\n",
    "### Leipzig Rental Data\n",
    "\n",
    "Source  rental prices Leipzig : https://www.wohnung.com/leipzig#:~:text=Die%20Stadtteile%20von%20Leipzig%20in%20Zahlen&text=Der%20Angebotspreis%20f%C3%BCr%20Immobilien%20liegt,2.006%20%E2%82%AC%2Fm%C2%B2.\n",
    "\n",
    "### Berlin Rental Data\n",
    "\n",
    "Soure rental prices Berlin: https://www.homeday.de/de/blog/mietpreise-berlin-2019/#:~:text=In%20insgesamt%2034%20Berliner%20Ortsteilen,in%2017%20Ortsteilen%20der%20Bundeshauptstadt."
   ]
  },
  {
   "cell_type": "markdown",
   "metadata": {},
   "source": [
    "## 3. Analysis, Clustering and Datavisualisation\n",
    "\n",
    "The Explorated Venues of each Neighborhood will be analyized. Thereby, the top 10 Venues of each Neighborhood should be determined. Based on all data a KMeans Clustering will cluster the Neighborhoods of each City. The Cluster will be shown graphically in folium. \n",
    "Other Data will be visualized via matlibplot to support and expand the results of clustering."
   ]
  },
  {
   "cell_type": "code",
   "execution_count": null,
   "metadata": {},
   "outputs": [],
   "source": []
  },
  {
   "cell_type": "markdown",
   "metadata": {},
   "source": [
    "## 4. Conclusion\n",
    "\n",
    "With the previously written, it should be possible to compare both cities and to answer the following questions:\n",
    "- how comparable are the Neighborhoods of Berlin and Leipzig?\n",
    "- are there comparable patterns in the distribution of Clusters?\n",
    "- Where would I move, if I would move from Leipzig to Berlin (or the other way around)"
   ]
  },
  {
   "cell_type": "code",
   "execution_count": null,
   "metadata": {},
   "outputs": [],
   "source": []
  }
 ],
 "metadata": {
  "kernelspec": {
   "display_name": "Python 3",
   "language": "python",
   "name": "python3"
  },
  "language_info": {
   "codemirror_mode": {
    "name": "ipython",
    "version": 3
   },
   "file_extension": ".py",
   "mimetype": "text/x-python",
   "name": "python",
   "nbconvert_exporter": "python",
   "pygments_lexer": "ipython3",
   "version": "3.7.4"
  }
 },
 "nbformat": 4,
 "nbformat_minor": 2
}
